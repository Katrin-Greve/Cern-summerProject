{
 "cells": [
  {
   "cell_type": "markdown",
   "metadata": {},
   "source": [
    "# Visualizing the results"
   ]
  },
  {
   "cell_type": "markdown",
   "metadata": {},
   "source": [
    "### Import tools:"
   ]
  },
  {
   "cell_type": "code",
   "execution_count": null,
   "metadata": {},
   "outputs": [],
   "source": [
    "import data_training as dt;\n",
    "import plotting;\n",
    "import numpy as np\n",
    "import matplotlib.pyplot as plt\n"
   ]
  },
  {
   "cell_type": "markdown",
   "metadata": {},
   "source": [
    "### Get the data sets:"
   ]
  },
  {
   "cell_type": "code",
   "execution_count": null,
   "metadata": {},
   "outputs": [],
   "source": [
    "no_set=10 # 100\n",
    "directory_sets=f\"/home/katrin/Cern_summerProject/root_trees/set_{no_set}/\"\n",
    "directory_hists=f\"/home/katrin/Cern_summerProject/root_histograms/set_{no_set}/\"\n",
    "save_dir_plots = f'/home/katrin/Cern_summerProject/imgs/set_{no_set}/'\n",
    "save_dir_mlplots=f\"/home/katrin/Cern_summerProject/ml_plots/set_{no_set}/\"\n",
    "\n",
    "\n",
    "file_directory_data=\"/home/katrin/Cern_summerProject/data/AO2D_data_woK0.root\"#\"/home/katrin/Cern_summerProject/data/AnalysisResults_treesML_data.root\" \n",
    "tree_data=\"O2lambdatableml\"\n",
    "file_directory_mc=\"/home/katrin/Cern_summerProject/data/AO2D_MC_240722.root\"#\"/home/katrin/Cern_summerProject/data/AO2D_MC.root\"\n",
    "tree_mc=\"O2mclambdatableml\"\n",
    "\n",
    "\n",
    "allsets=plotting.get_sets(already_saved=True, onlynewMC=False, directory_sets=directory_sets, file_directory_data=file_directory_data, file_directory_mc=file_directory_mc, tree_data=tree_data, tree_mc=tree_mc)\n",
    "sets=list(allsets.values())\n",
    "set_names=list(allsets.keys())\n",
    "files={}\n",
    "for nm in set_names:\n",
    "    files[nm]=directory_sets+nm+\".root\"\n",
    "print(files)\n",
    "\n"
   ]
  },
  {
   "cell_type": "markdown",
   "metadata": {},
   "source": [
    "## Creating new Subset"
   ]
  },
  {
   "cell_type": "code",
   "execution_count": null,
   "metadata": {},
   "outputs": [],
   "source": [
    "\n",
    "#data=plotting.get_TreeHandler(file_name=file_directory_data,tree_name=tree_data,folder_name=\"DF*\")\n",
    "#leftsideband=plotting.apply_cuts(data=data, var=\"fMass\", upper_cut=1.1)\n",
    "#rightsideband=plotting.apply_cuts(data=data, var=\"fMass\", lower_cut=1.13)\n",
    "#plotting.save_sets(sets=[leftsideband,rightsideband], set_names=[\"leftsideband\",\"rightsideband\"],dir_tree=directory_sets)\n",
    "    "
   ]
  },
  {
   "cell_type": "markdown",
   "metadata": {},
   "source": [
    "#### Rightsideband MC"
   ]
  },
  {
   "cell_type": "code",
   "execution_count": null,
   "metadata": {},
   "outputs": [],
   "source": [
    "\n",
    "#data=plotting.get_TreeHandler(file_name=file_directory_data,tree_name=tree_data,folder_name=\"DF*\")\n",
    "#leftsideband=plotting.apply_cuts(data=data, var=\"fMass\", upper_cut=1.1)\n",
    "rightsideband_MC=plotting.apply_cuts(data=allsets[\"bckg_MC_woSignal\"], var=\"fMass\", lower_cut=1.13)\n",
    "plotting.save_sets(sets=[rightsideband_MC], set_names=[\"rightsideband_MC\"],dir_tree=directory_sets)\n",
    "    "
   ]
  },
  {
   "cell_type": "markdown",
   "metadata": {},
   "source": [
    "#### Cutting signal from MC bakcground:"
   ]
  },
  {
   "cell_type": "code",
   "execution_count": null,
   "metadata": {},
   "outputs": [],
   "source": [
    "#bckg_MC_woSignal=plotting.apply_cuts(data=allsets[\"bckg_MC\"],var=\"fPDGMatchMotherSecondMother\",lower_cut=-999,upper_cut=-999)\n",
    "#plotting.save_sets(sets=[bckg_MC_woSignal], set_names=[\"bckg_MC_woSignal\"],dir_tree=directory_sets)\n"
   ]
  },
  {
   "cell_type": "markdown",
   "metadata": {},
   "source": [
    "#### Qt cutted MC background"
   ]
  },
  {
   "cell_type": "code",
   "execution_count": null,
   "metadata": {},
   "outputs": [],
   "source": [
    "#bckg_MC_Qtcut=plotting.apply_cuts(data=allsets[\"bckg_MC_woSignal\"],var=\"fQtAP\",upper_cut=0.12)\n",
    "#plotting.save_sets(sets=[bckg_MC_Qtcut], set_names=[\"bckg_MC_Qtcut\"],dir_tree=directory_sets)\n"
   ]
  },
  {
   "cell_type": "markdown",
   "metadata": {},
   "source": [
    "#### Mass cutted MC"
   ]
  },
  {
   "cell_type": "code",
   "execution_count": null,
   "metadata": {},
   "outputs": [],
   "source": [
    "#BckgMC_cuttedMass=plotting.apply_cuts(data=allsets[\"bckg_MC\"], var=\"fMass\", upper_cut=1.13, lower_cut=1.1, inclusive=False)\n",
    "#plotting.save_sets(sets=[BckgMC_cuttedMass], set_names=[\"BckgMC_cuttedMass\"],dir_tree=directory_sets)\n"
   ]
  },
  {
   "cell_type": "markdown",
   "metadata": {},
   "source": [
    "## Plotting 1D Distributions:"
   ]
  },
  {
   "cell_type": "markdown",
   "metadata": {},
   "source": [
    "#### Mass distribution Monte Carlo"
   ]
  },
  {
   "cell_type": "code",
   "execution_count": null,
   "metadata": {},
   "outputs": [],
   "source": [
    "#plotting.plot_some_dist(sets=[allsets[\"bckg_MC\"],bckg_MC_woSignal], to_plot=[\"fMass\"], labels=[\"Monte Carlo background\", \"Monte Carlo background w/ signal\"], fs=(8,5),fontsize=15,save_fig=True,pdf_filename=save_dir_plots+\"Mass_distribution_MC.pdf\")"
   ]
  },
  {
   "cell_type": "markdown",
   "metadata": {},
   "source": [
    "## Plotting 2D Histograms:"
   ]
  },
  {
   "cell_type": "markdown",
   "metadata": {},
   "source": [
    "#### Armenteros Plots:"
   ]
  },
  {
   "cell_type": "code",
   "execution_count": null,
   "metadata": {},
   "outputs": [],
   "source": [
    "#plotting.plot_2dhist_root(file_names=[files[\"bckg_MC\"],files[\"bckg_MC_woSignal\"]],set_names=[\"bckg_MC\",\"bckg_MC_woSignal\"], varsx=[\"fAlphaAP\"], varsy=[\"fQtAP\"], binsx=100, binsy=100,cmap=\"twilight\", save_directory=directory_hists, save_pdf=True, save_file=False,logz=True)"
   ]
  },
  {
   "cell_type": "code",
   "execution_count": null,
   "metadata": {},
   "outputs": [],
   "source": [
    "#plotting.plot_2dhist_root(file_names=[file_directory_mc],set_names=[\"MonteCarlo_leftSideband\"], varsx=[\"fAlphaAP\"], varsy=[\"fQtAP\"], binsx=100, binsy=100, save_directory=directory_hists, save_pdf=False, save_file=False,cuts=\"fQtAP!=-999 && fMass<1.1\")\n",
    "#plotting.plot_2dhist_root(file_names=[file_directory_mc],set_names=[\"MonteCarlo_rightSideband\"], varsx=[\"fAlphaAP\"], varsy=[\"fQtAP\"], binsx=100, binsy=100, save_directory=directory_hists, save_pdf=False, save_file=False,cuts=\"fQtAP!=-999 && fMass>1.13\")\n",
    "#plotting.plot_2dhist_root(file_names=[file_directory_mc],set_names=[\"MonteCarlo_SignalRegion\"], varsx=[\"fAlphaAP\"], varsy=[\"fQtAP\"], binsx=100, binsy=100, save_directory=directory_hists, save_pdf=False, save_file=False,cuts=\"fQtAP!=-999 && fMass<1.3 && fMass>1.1\")\n",
    "#"
   ]
  },
  {
   "cell_type": "code",
   "execution_count": null,
   "metadata": {},
   "outputs": [],
   "source": [
    "#plotting.plot_2dhist_root(file_names=[files[\"bckg_MC_woSignal\"]],set_names=[\"MonteCarlo_Bckg_leftSideband\"], varsx=[\"fAlphaAP\"], varsy=[\"fQtAP\"], binsx=100, binsy=100, save_directory=directory_hists, save_pdf=False, save_file=False,cuts=\"fQtAP!=-999 && fMass<1.1\")\n",
    "#plotting.plot_2dhist_root(file_names=[files[\"bckg_MC_woSignal\"]],set_names=[\"MonteCarlo_Bckg_rightSideband\"], varsx=[\"fAlphaAP\"], varsy=[\"fQtAP\"], binsx=100, binsy=100, save_directory=directory_hists, save_pdf=False, save_file=False,cuts=\"fQtAP!=-999 && fMass>1.13\")\n",
    "#plotting.plot_2dhist_root(file_names=[files[\"bckg_MC_woSignal\"]],set_names=[\"MonteCarlo_Bckg_SignalRegion\"], varsx=[\"fAlphaAP\"], varsy=[\"fQtAP\"], binsx=100, binsy=100, save_directory=directory_hists, save_pdf=False, save_file=False,cuts=\"fQtAP!=-999 && fMass<1.13 && fMass>1.1\")"
   ]
  },
  {
   "cell_type": "code",
   "execution_count": null,
   "metadata": {},
   "outputs": [],
   "source": [
    "#plotting.plot_2dhist_root(file_names=[files[\"rightsideband_MC\"]],set_names=[\"rightsideband_MC\"], varsx=[\"fAlphaAP\"], varsy=[\"fQtAP\"], binsx=100, binsy=100, save_directory=directory_hists, save_pdf=True, save_file=False,cuts=\"fQtAP!=-999\",pdf_name=\"Armenteros_rightsideBandMC.pdf\")\n"
   ]
  },
  {
   "cell_type": "markdown",
   "metadata": {},
   "source": [
    "#### 3D Armenteros"
   ]
  },
  {
   "cell_type": "code",
   "execution_count": null,
   "metadata": {},
   "outputs": [],
   "source": [
    "#plotting.plot_3dhist_root(file_names=[files[\"bckg_MC_woSignal\"]],set_names=[\"bckg_MC_woSignal\"], varsx=[\"fAlphaAP\"], varsy=[\"fQtAP\"],varsz=[\"fPDGCodeMotherDauNeg\"], binsx=100, binsy=100, binsz=200, save_directory=directory_hists, save_pdf=False, save_file=True,cuts=\"fQtAP!=-999 && fMass>1.13\")\n",
    "#plotting.plot_3dhist_root(file_names=[files[\"bckg_MC_woSignal\"]],set_names=[\"bckg_MC_woSignal\"], varsx=[\"fAlphaAP\"], varsy=[\"fQtAP\"],varsz=[\"fPDGCodeMotherDauNeg\"], binsx=100, binsy=100, binsz=100, save_directory=directory_hists, save_pdf=False, save_file=False,cuts=\"fQtAP!=-999 && fMass>1.13 && fPDGCodeMotherDauNeg==3212\")\n"
   ]
  },
  {
   "cell_type": "markdown",
   "metadata": {},
   "source": [
    "#### Armenteros per PDGCodeMotherDauNeg"
   ]
  },
  {
   "cell_type": "code",
   "execution_count": null,
   "metadata": {},
   "outputs": [],
   "source": [
    "#pdgs=plotting.get_allPDG(data=allsets[\"bckg_MC_woSignal\"],variable=\"fPDGCodeMotherDauNeg\")\n",
    "#pdfs=[]\n",
    "#for pdg in pdgs:\n",
    "#    plotting.plot_2dhist_root(file_names=[files[\"rightsideband_MC\"]],set_names=[\"rightsideband_MC\"], varsx=[\"fAlphaAP\"], varsy=[\"fQtAP\"], binsx=100, binsy=100, save_directory=directory_hists, save_pdf=True, save_file=False,cuts=f\"fQtAP!=-999 && fPDGCodeMotherDauNeg=={pdg}\",pdf_name=f\"pdg{pdg}.pdf\")\n",
    "#    pdfs.append(directory_hists+f\"pdg{pdg}.pdf\")\n",
    "#plotting.merge_pdfs(pdfs,output_path=directory_hists+\"Armenteros_rightsideBandMC_perPDG.pdf\")"
   ]
  },
  {
   "cell_type": "code",
   "execution_count": null,
   "metadata": {},
   "outputs": [],
   "source": [
    "#plotting.plot_2dhist_root(file_names=[files[\"prompt\"]],set_names=[\"prompt\"],varsx=[\"fMass\",\"fPt\"],varsy=[\"fCosPA\",\"fPt\"], binsx=100, cmap=\"twilight\",save_directory=directory_hists, save_pdf=False, save_file=False)"
   ]
  },
  {
   "cell_type": "markdown",
   "metadata": {},
   "source": [
    "## Plotting 3D Histograms:"
   ]
  },
  {
   "cell_type": "code",
   "execution_count": null,
   "metadata": {},
   "outputs": [],
   "source": [
    "#plotting.plot_3dhist_root(file_names=[files[\"prompt\"]],set_names=[\"prompt\"],varsx=[\"fMass\", \"fDcaV0PV\"],varsy=[\"fCosPA\"], varsz=[\"fPt\"],save_directory=directory_hists,save_file=False, save_pdf=True)\n"
   ]
  },
  {
   "cell_type": "markdown",
   "metadata": {},
   "source": [
    "## Plotting the Crystallball fits:"
   ]
  },
  {
   "cell_type": "code",
   "execution_count": null,
   "metadata": {},
   "outputs": [],
   "source": [
    "#plotting.plot_chrystalball_fit(file_directory_data=file_directory_data)\n",
    "#plotting.crystalball_fit_seperatedbins(file_directory_data=file_directory_data, hist2d_saved=False, save_pdf=False, cheb=True, with_cut=True)"
   ]
  },
  {
   "cell_type": "code",
   "execution_count": null,
   "metadata": {},
   "outputs": [],
   "source": []
  },
  {
   "cell_type": "markdown",
   "metadata": {},
   "source": [
    "## Plotting the machine learning results:"
   ]
  },
  {
   "cell_type": "markdown",
   "metadata": {},
   "source": [
    "#### Train your model:"
   ]
  },
  {
   "cell_type": "code",
   "execution_count": null,
   "metadata": {},
   "outputs": [],
   "source": [
    "#traindata,model=dt.trainmodel([allsets[\"BckgMC_cuttedMass\"],allsets[\"nonprompt\"],allsets[\"prompt\"]],set_names=[\"bckg_MC\",\"nonprompt\", \"prompt\"], name_training=\"trainBckgMC\",directory_sets=directory_sets,multi=True)\n",
    "#dt.save_model(model=model, file_name=save_dir_mlplots+\"model_bckgMC.pickle\")\n"
   ]
  },
  {
   "cell_type": "markdown",
   "metadata": {},
   "source": [
    "#### BDT distribution for different binnings:"
   ]
  },
  {
   "cell_type": "code",
   "execution_count": null,
   "metadata": {},
   "outputs": [],
   "source": [
    "#pdfs=[]\n",
    "#dt.trainmodel([allsets[\"BckgMC_cuttedMass\"],allsets[\"nonprompt\"],allsets[\"prompt\"]],set_names=[\"bckg_MC\",\"nonprompt\", \"prompt\"], name_training=\"trainBckgMC\",directory_sets=directory_sets,multi=True)\n",
    "#for i in range(1,13):\n",
    "#    plotting.plot_some_dist(sets=[allsets[\"prompt\"]], to_plot=[\"trainBckgMC_class2\"], labels=[\"prompt\"],logy=False,no_bins=10*i,save_fig=True, pdf_filename=f\"/home/katrin/Cern_summerProject/imgs/set_{no_set}/output_{i}.pdf\")\n",
    "#    pdfs.append(f\"/home/katrin/Cern_summerProject/imgs/set_{no_set}/output_{i}.pdf\")\n",
    "#plotting.merge_pdfs(pdf_list=pdfs, output_path=f\"/home/katrin/Cern_summerProject/imgs/set_{no_set}/bdtOutput_binning.pdf\")"
   ]
  },
  {
   "cell_type": "markdown",
   "metadata": {},
   "source": [
    "#### Apply trained model to data:"
   ]
  },
  {
   "cell_type": "code",
   "execution_count": null,
   "metadata": {},
   "outputs": [],
   "source": [
    "model_bckgMC=dt.get_model(file_name=save_dir_mlplots+\"model_bckgMC.pickle\")\n",
    "pred=dt.model_prediction_data(model=model_bckgMC, directory_data=file_directory_data)"
   ]
  },
  {
   "cell_type": "code",
   "execution_count": null,
   "metadata": {},
   "outputs": [],
   "source": [
    "pred_class1=[]\n",
    "pred_class2=[]\n",
    "pred_class0=[]\n",
    "for i in range(len(pred)):\n",
    "    ls=pred[i]\n",
    "    pred_class0.append(ls[0])\n",
    "    pred_class1.append(ls[1])\n",
    "    pred_class2.append(ls[2])"
   ]
  },
  {
   "cell_type": "code",
   "execution_count": null,
   "metadata": {},
   "outputs": [],
   "source": [
    "plotting.plot_hist_root(data=[pred_class2,pred_class1,pred_class1], save_directory=directory_hists,varsx=[\"bdt_class2\",\"bdt_class1\",\"bdt_class1\"],save_pdf=False,save_file=True, file_name=\"/home/katrin/Cern_summerProject/root_histograms/set_10/bdt_data.root\")\n"
   ]
  },
  {
   "cell_type": "code",
   "execution_count": null,
   "metadata": {},
   "outputs": [],
   "source": []
  }
 ],
 "metadata": {
  "kernelspec": {
   "display_name": "mymlroot",
   "language": "python",
   "name": "python3"
  },
  "language_info": {
   "codemirror_mode": {
    "name": "ipython",
    "version": 3
   },
   "file_extension": ".py",
   "mimetype": "text/x-python",
   "name": "python",
   "nbconvert_exporter": "python",
   "pygments_lexer": "ipython3",
   "version": "3.11.9"
  }
 },
 "nbformat": 4,
 "nbformat_minor": 2
}
