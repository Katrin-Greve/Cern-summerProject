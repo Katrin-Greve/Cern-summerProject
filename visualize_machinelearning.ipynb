{
 "cells": [
  {
   "cell_type": "code",
   "execution_count": 1,
   "metadata": {},
   "outputs": [],
   "source": [
    "import data_training as dt\n",
    "from hipe4ml import plot_utils\n",
    "import numpy as np"
   ]
  },
  {
   "cell_type": "code",
   "execution_count": 2,
   "metadata": {},
   "outputs": [],
   "source": [
    "mytraindata,mytraindataMC=dt.get_traindata()\n",
    "model=dt.define_model()"
   ]
  },
  {
   "cell_type": "code",
   "execution_count": 3,
   "metadata": {},
   "outputs": [
    {
     "name": "stdout",
     "output_type": "stream",
     "text": [
      "==============================\n",
      "Training xgboost model for classification\n",
      "Number of detected classes: 3\n",
      "Training the model: ...\n",
      "Training the model: Done!\n",
      "Testing the model: ...\n",
      "ROC_AUC_score: 0.849184\n",
      "Testing the model: Done!\n",
      "==============================\n"
     ]
    }
   ],
   "source": [
    "dt.plot_bdt(mytraindata,model,save_fig=True,filename=\"output_traintest_databckg.pdf\")"
   ]
  },
  {
   "cell_type": "code",
   "execution_count": 4,
   "metadata": {},
   "outputs": [
    {
     "name": "stdout",
     "output_type": "stream",
     "text": [
      "==============================\n",
      "Training xgboost model for classification\n",
      "Number of detected classes: 3\n",
      "Training the model: ...\n"
     ]
    }
   ],
   "source": [
    "dt.plot_bdt(mytraindata,model,save_fig=True,filename=\"output_traintest_MCbckg.pdf\")"
   ]
  },
  {
   "cell_type": "code",
   "execution_count": null,
   "metadata": {},
   "outputs": [],
   "source": []
  }
 ],
 "metadata": {
  "kernelspec": {
   "display_name": "mymlroot",
   "language": "python",
   "name": "python3"
  },
  "language_info": {
   "codemirror_mode": {
    "name": "ipython",
    "version": 3
   },
   "file_extension": ".py",
   "mimetype": "text/x-python",
   "name": "python",
   "nbconvert_exporter": "python",
   "pygments_lexer": "ipython3",
   "version": "3.11.9"
  }
 },
 "nbformat": 4,
 "nbformat_minor": 2
}
