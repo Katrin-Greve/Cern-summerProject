{
 "cells": [
  {
   "cell_type": "code",
   "execution_count": 1,
   "metadata": {},
   "outputs": [
    {
     "name": "stderr",
     "output_type": "stream",
     "text": [
      "Using `tqdm.autonotebook.tqdm` in notebook mode. Use `tqdm.tqdm` instead to force console mode (e.g. in jupyter console)\n"
     ]
    },
    {
     "name": "stdout",
     "output_type": "stream",
     "text": [
      "Welcome to JupyROOT 6.30/04\n"
     ]
    }
   ],
   "source": [
    "import preparing_data as prep\n"
   ]
  },
  {
   "cell_type": "code",
   "execution_count": 2,
   "metadata": {},
   "outputs": [
    {
     "ename": "TypeError",
     "evalue": "plot_2dhist_root() missing 2 required positional arguments: 'var1' and 'var2'",
     "output_type": "error",
     "traceback": [
      "\u001b[0;31m---------------------------------------------------------------------------\u001b[0m",
      "\u001b[0;31mTypeError\u001b[0m                                 Traceback (most recent call last)",
      "Cell \u001b[0;32mIn[2], line 4\u001b[0m\n\u001b[1;32m      1\u001b[0m file_directory_mc\u001b[38;5;241m=\u001b[39m\u001b[38;5;124m\"\u001b[39m\u001b[38;5;124m/home/katrin/Cern_summerProject/data/AnalysisResults_treesML_mc_LHC24b1b_small.root\u001b[39m\u001b[38;5;124m\"\u001b[39m\n\u001b[1;32m      2\u001b[0m tree_mc\u001b[38;5;241m=\u001b[39m\u001b[38;5;124m\"\u001b[39m\u001b[38;5;124mO2mclambdatableml\u001b[39m\u001b[38;5;124m\"\u001b[39m\n\u001b[0;32m----> 4\u001b[0m \u001b[43mprep\u001b[49m\u001b[38;5;241;43m.\u001b[39;49m\u001b[43mplot_2dhist_root\u001b[49m\u001b[43m(\u001b[49m\u001b[43mfile\u001b[49m\u001b[38;5;241;43m=\u001b[39;49m\u001b[43mfile_directory_mc\u001b[49m\u001b[43m,\u001b[49m\u001b[43m \u001b[49m\u001b[43mtree_name\u001b[49m\u001b[38;5;241;43m=\u001b[39;49m\u001b[43mtree_mc\u001b[49m\u001b[43m)\u001b[49m\n",
      "\u001b[0;31mTypeError\u001b[0m: plot_2dhist_root() missing 2 required positional arguments: 'var1' and 'var2'"
     ]
    }
   ],
   "source": [
    "file_directory_mc=\"/home/katrin/Cern_summerProject/data/AnalysisResults_treesML_mc_LHC24b1b_small.root\"\n",
    "tree_mc=\"O2mclambdatableml\"\n",
    "\n",
    "prep.plot_2dhist_root(file=file_directory_mc, tree_name=tree_mc)\n"
   ]
  },
  {
   "cell_type": "code",
   "execution_count": null,
   "metadata": {},
   "outputs": [
    {
     "name": "stdout",
     "output_type": "stream",
     "text": [
      "Reading /home/katrin/Cern_summerProject/data/AO2D_data.root:DF_2261906082309120/O2lambdatableml;1\n",
      "Reading /home/katrin/Cern_summerProject/data/AO2D_data.root:DF_2261906082636800/O2lambdatableml;1\n",
      "Reading /home/katrin/Cern_summerProject/data/AO2D_data.root:DF_2261906086819712/O2lambdatableml;1\n",
      "Reading /home/katrin/Cern_summerProject/data/AO2D_data.root:DF_2261906099948416/O2lambdatableml;1\n",
      "Reading /home/katrin/Cern_summerProject/data/AO2D_data.root:DF_2261906104336512/O2lambdatableml;1\n",
      "Reading /home/katrin/Cern_summerProject/data/AO2D_data.root:DF_2261906106678656/O2lambdatableml;1\n",
      "Reading /home/katrin/Cern_summerProject/data/AO2D_data.root:DF_2261906109911296/O2lambdatableml;1\n",
      "Reading /home/katrin/Cern_summerProject/data/AO2D_data.root:DF_2261906123088000/O2lambdatableml;1\n",
      "Reading /home/katrin/Cern_summerProject/data/AO2D_data.root:DF_2261906126286208/O2lambdatableml;1\n",
      "Reading /home/katrin/Cern_summerProject/data/AO2D_data.root:DF_2261906138648704/O2lambdatableml;1\n",
      "Reading /home/katrin/Cern_summerProject/data/AO2D_data.root:DF_2261906149040128/O2lambdatableml;1\n",
      "Reading /home/katrin/Cern_summerProject/data/AO2D_data.root:DF_2261906149241856/O2lambdatableml;1\n",
      "Reading /home/katrin/Cern_summerProject/data/AO2D_data.root:DF_2261906151398400/O2lambdatableml;1\n",
      "Reading /home/katrin/Cern_summerProject/data/AO2D_data.root:DF_2261906155015808/O2lambdatableml;1\n"
     ]
    },
    {
     "data": {
      "text/plain": [
       "<hipe4ml.tree_handler.TreeHandler at 0x7f1d5b6271d0>"
      ]
     },
     "execution_count": 3,
     "metadata": {},
     "output_type": "execute_result"
    }
   ],
   "source": [
    "import preparing_data as prep\n",
    "\n",
    "file_directory_data=\"/home/katrin/Cern_summerProject/data/AO2D_data.root\"\n",
    "tree_data=\"O2lambdatableml\"\n",
    "file_directory_mc=\"/home/katrin/Cern_summerProject/data/AO2D_MC.root\"\n",
    "tree_mc=\"O2mclambdatableml\"\n",
    "\n",
    "prep.get_rawdata(file_directory_data, tree_data, folder_name=\"DF*\")"
   ]
  },
  {
   "cell_type": "code",
   "execution_count": null,
   "metadata": {},
   "outputs": [
    {
     "name": "stdout",
     "output_type": "stream",
     "text": [
      "Reading /home/katrin/Cern_summerProject/data/AO2D_data.root:DF_2261906082309120/O2lambdatableml;1\n",
      "Reading /home/katrin/Cern_summerProject/data/AO2D_data.root:DF_2261906082636800/O2lambdatableml;1\n",
      "Reading /home/katrin/Cern_summerProject/data/AO2D_data.root:DF_2261906086819712/O2lambdatableml;1\n",
      "Reading /home/katrin/Cern_summerProject/data/AO2D_data.root:DF_2261906099948416/O2lambdatableml;1\n",
      "Reading /home/katrin/Cern_summerProject/data/AO2D_data.root:DF_2261906104336512/O2lambdatableml;1\n",
      "Reading /home/katrin/Cern_summerProject/data/AO2D_data.root:DF_2261906106678656/O2lambdatableml;1\n",
      "Reading /home/katrin/Cern_summerProject/data/AO2D_data.root:DF_2261906109911296/O2lambdatableml;1\n",
      "Reading /home/katrin/Cern_summerProject/data/AO2D_data.root:DF_2261906123088000/O2lambdatableml;1\n",
      "Reading /home/katrin/Cern_summerProject/data/AO2D_data.root:DF_2261906126286208/O2lambdatableml;1\n",
      "Reading /home/katrin/Cern_summerProject/data/AO2D_data.root:DF_2261906138648704/O2lambdatableml;1\n",
      "Reading /home/katrin/Cern_summerProject/data/AO2D_data.root:DF_2261906149040128/O2lambdatableml;1\n",
      "Reading /home/katrin/Cern_summerProject/data/AO2D_data.root:DF_2261906149241856/O2lambdatableml;1\n",
      "Reading /home/katrin/Cern_summerProject/data/AO2D_data.root:DF_2261906151398400/O2lambdatableml;1\n",
      "Reading /home/katrin/Cern_summerProject/data/AO2D_data.root:DF_2261906155015808/O2lambdatableml;1\n"
     ]
    },
    {
     "data": {
      "text/plain": [
       "<hipe4ml.tree_handler.TreeHandler at 0x7f1d59411dd0>"
      ]
     },
     "execution_count": 4,
     "metadata": {},
     "output_type": "execute_result"
    }
   ],
   "source": [
    "from hipe4ml.tree_handler import TreeHandler\n",
    "TreeHandler(file_directory_data, tree_data, folder_name=\"DF*\")"
   ]
  },
  {
   "cell_type": "code",
   "execution_count": null,
   "metadata": {},
   "outputs": [],
   "source": []
  }
 ],
 "metadata": {
  "kernelspec": {
   "display_name": "mymlroot",
   "language": "python",
   "name": "python3"
  },
  "language_info": {
   "codemirror_mode": {
    "name": "ipython",
    "version": 3
   },
   "file_extension": ".py",
   "mimetype": "text/x-python",
   "name": "python",
   "nbconvert_exporter": "python",
   "pygments_lexer": "ipython3",
   "version": "3.11.9"
  }
 },
 "nbformat": 4,
 "nbformat_minor": 2
}
